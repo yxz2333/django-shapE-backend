{
 "cells": [
  {
   "cell_type": "code",
   "execution_count": 1,
   "id": "0e370e71-e12b-432b-acce-418d315f3849",
   "metadata": {
    "ExecuteTime": {
     "end_time": "2024-05-12T14:24:11.196393Z",
     "start_time": "2024-05-12T14:24:08.630458Z"
    }
   },
   "outputs": [],
   "source": [
    "import torch\n",
    "\n",
    "from shap_e.diffusion.sample import sample_latents\n",
    "from shap_e.diffusion.gaussian_diffusion import diffusion_from_config\n",
    "from shap_e.models.download import load_model, load_config\n",
    "from shap_e.util.notebooks import create_pan_cameras, decode_latent_images, gif_widget"
   ]
  },
  {
   "cell_type": "code",
   "execution_count": 2,
   "id": "a73e930b-750e-4900-9237-9c3048539bd6",
   "metadata": {
    "ExecuteTime": {
     "end_time": "2024-05-12T14:24:11.237621Z",
     "start_time": "2024-05-12T14:24:11.198491Z"
    }
   },
   "outputs": [],
   "source": "device = torch.device('cuda' if torch.cuda.is_available() else 'cpu')"
  },
  {
   "cell_type": "code",
   "execution_count": 3,
   "id": "d89df989-5d28-4d87-85c7-79d68f8dc432",
   "metadata": {
    "ExecuteTime": {
     "end_time": "2024-05-12T14:24:36.983894Z",
     "start_time": "2024-05-12T14:24:11.238627Z"
    }
   },
   "outputs": [],
   "source": [
    "xm = load_model('transmitter', device=device)\n",
    "model = load_model('text300M', device=device)\n",
    "diffusion = diffusion_from_config(load_config('diffusion'))"
   ]
  },
  {
   "cell_type": "code",
   "execution_count": 4,
   "id": "b9fec9d8-5417-4f5f-851a-b8beb2da971b",
   "metadata": {
    "ExecuteTime": {
     "end_time": "2024-05-12T14:25:01.707038Z",
     "start_time": "2024-05-12T14:24:36.985901Z"
    }
   },
   "outputs": [
    {
     "name": "stderr",
     "output_type": "stream",
     "text": [
      "D:\\ANACONDA\\Lib\\site-packages\\torch\\nn\\functional.py:5476: UserWarning: 1Torch was not compiled with flash attention. (Triggered internally at C:\\cb\\pytorch_1000000000000\\work\\aten\\src\\ATen\\native\\transformers\\cuda\\sdp_utils.cpp:263.)\n",
      "  attn_output = scaled_dot_product_attention(q, k, v, attn_mask, dropout_p, is_causal)\n"
     ]
    },
    {
     "data": {
      "application/vnd.jupyter.widget-view+json": {
       "model_id": "d0170a24d77844d780172d4cd18de2b1",
       "version_major": 2,
       "version_minor": 0
      },
      "text/plain": [
       "  0%|          | 0/64 [00:00<?, ?it/s]"
      ]
     },
     "metadata": {},
     "output_type": "display_data"
    }
   ],
   "source": [
    "batch_size = 1         # 一次生成多少模型\n",
    "guidance_scale = 20.0  # 提示词引导参数\n",
    "prompt = \"\"      # 提示词\n",
    "\n",
    "latents = sample_latents(\n",
    "    batch_size=batch_size,\n",
    "    model=model,\n",
    "    diffusion=diffusion,\n",
    "    guidance_scale=guidance_scale,\n",
    "    model_kwargs=dict(texts=[prompt] * batch_size),\n",
    "    progress=True,\n",
    "    clip_denoised=True,\n",
    "    use_fp16=True,\n",
    "    use_karras=True,\n",
    "    karras_steps=64,\n",
    "    sigma_min=1e-3,\n",
    "    sigma_max=160,\n",
    "    s_churn=0,\n",
    ")"
   ]
  },
  {
   "cell_type": "code",
   "execution_count": 5,
   "id": "120b516f-bf60-40e5-84c0-ceaf4eb6ee6d",
   "metadata": {
    "ExecuteTime": {
     "start_time": "2024-05-12T14:25:01.713068Z"
    },
    "jupyter": {
     "is_executing": true
    }
   },
   "outputs": [
    {
     "data": {
      "application/vnd.jupyter.widget-view+json": {
       "model_id": "1ba4a74faa264b4e9ee86fdd85508842",
       "version_major": 2,
       "version_minor": 0
      },
      "text/plain": [
       "HTML(value='<img src=\"data:image/gif;base64,R0lGODlhgACAAIcAAPqyy/myyvixyfevyPSxyfavyPSuxfOtxfGtxPOsxPOrw/Grw/…"
      ]
     },
     "metadata": {},
     "output_type": "display_data"
    }
   ],
   "source": [
    "render_mode = 'nerf' # you can change this to 'stf'\n",
    "size = 64   # 模型渲染尺寸\n",
    "\n",
    "cameras = create_pan_cameras(size, device)\n",
    "for i, latent in enumerate(latents):\n",
    "    images = decode_latent_images(xm, latent, cameras, rendering_mode=render_mode)\n",
    "    display(gif_widget(images))"
   ]
  },
  {
   "cell_type": "code",
   "execution_count": 6,
   "id": "6fcbf5eb-d2f8-4114-998d-11d0d89ab75c",
   "metadata": {
    "jupyter": {
     "is_executing": true
    }
   },
   "outputs": [
    {
     "name": "stderr",
     "output_type": "stream",
     "text": [
      "c:\\users\\14672\\code.c\\luogu\\python\\shap-e-main\\shap_e\\models\\stf\\renderer.py:286: UserWarning: exception rendering with PyTorch3D: No module named 'pytorch3d'\n",
      "  warnings.warn(f\"exception rendering with PyTorch3D: {exc}\")\n",
      "c:\\users\\14672\\code.c\\luogu\\python\\shap-e-main\\shap_e\\models\\stf\\renderer.py:287: UserWarning: falling back on native PyTorch renderer, which does not support full gradients\n",
      "  warnings.warn(\n"
     ]
    }
   ],
   "source": [
    "# Example of saving the latents as meshes.\n",
    "from shap_e.util.notebooks import decode_latent_mesh\n",
    "\n",
    "for i, latent in enumerate(latents):\n",
    "    t = decode_latent_mesh(xm, latent).tri_mesh()\n",
    "    with open(f'{prompt}_{i}.ply', 'wb') as f:\n",
    "        t.write_ply(f)\n",
    "    with open(f'{prompt}_{i}.obj', 'w') as f:\n",
    "        t.write_obj(f)"
   ]
  }
 ],
 "metadata": {
  "kernelspec": {
   "display_name": "Python 3 (ipykernel)",
   "language": "python",
   "name": "python3"
  },
  "language_info": {
   "codemirror_mode": {
    "name": "ipython",
    "version": 3
   },
   "file_extension": ".py",
   "mimetype": "text/x-python",
   "name": "python",
   "nbconvert_exporter": "python",
   "pygments_lexer": "ipython3",
   "version": "3.11.7"
  }
 },
 "nbformat": 4,
 "nbformat_minor": 5
}
